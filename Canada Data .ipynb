{
 "cells": [
  {
   "cell_type": "markdown",
   "metadata": {},
   "source": [
    "# Canada Population Retirement Data Analysis "
   ]
  },
  {
   "cell_type": "markdown",
   "metadata": {},
   "source": [
    "#1.All of population belongs to CANADA\n",
    "#2.Extracted only the working population data(because they are eligible for retirement)\n",
    "#3.All 3 categories of working class are considered for analysis(Private,Public and Self)\n",
    "#4.'DECIMALS','TERMINATED','SYMBOL','COORDINATE','VECTOR','SCALAR_ID','SCALAR_FACTOR','UOM_ID','UOM','DGUID','GEO' from train_data is not required as has same value in all records\n",
    "#5.\tThe average Female Self employed retirement age was assumed to be minimum value between the corresponding male and total values"
   ]
  },
  {
   "cell_type": "code",
   "execution_count": 1,
   "metadata": {},
   "outputs": [],
   "source": [
    "import numpy as np\n",
    "import pandas as pd\n",
    "canada_data = pd.read_csv(\"train_data.csv\")"
   ]
  },
  {
   "cell_type": "code",
   "execution_count": 2,
   "metadata": {},
   "outputs": [
    {
     "data": {
      "text/html": [
       "<div>\n",
       "<style scoped>\n",
       "    .dataframe tbody tr th:only-of-type {\n",
       "        vertical-align: middle;\n",
       "    }\n",
       "\n",
       "    .dataframe tbody tr th {\n",
       "        vertical-align: top;\n",
       "    }\n",
       "\n",
       "    .dataframe thead th {\n",
       "        text-align: right;\n",
       "    }\n",
       "</style>\n",
       "<table border=\"1\" class=\"dataframe\">\n",
       "  <thead>\n",
       "    <tr style=\"text-align: right;\">\n",
       "      <th></th>\n",
       "      <th>REF_DATE</th>\n",
       "      <th>GEO</th>\n",
       "      <th>DGUID</th>\n",
       "      <th>Retirement age</th>\n",
       "      <th>Class of worker</th>\n",
       "      <th>Sex</th>\n",
       "      <th>UOM</th>\n",
       "      <th>UOM_ID</th>\n",
       "      <th>SCALAR_FACTOR</th>\n",
       "      <th>SCALAR_ID</th>\n",
       "      <th>VECTOR</th>\n",
       "      <th>COORDINATE</th>\n",
       "      <th>VALUE</th>\n",
       "      <th>STATUS</th>\n",
       "      <th>SYMBOL</th>\n",
       "      <th>TERMINATED</th>\n",
       "      <th>DECIMALS</th>\n",
       "    </tr>\n",
       "  </thead>\n",
       "  <tbody>\n",
       "    <tr>\n",
       "      <th>0</th>\n",
       "      <td>1976</td>\n",
       "      <td>Canada</td>\n",
       "      <td>2016A000011124</td>\n",
       "      <td>Average age</td>\n",
       "      <td>Total, all retirees</td>\n",
       "      <td>Both sexes</td>\n",
       "      <td>Years</td>\n",
       "      <td>308</td>\n",
       "      <td>units</td>\n",
       "      <td>0</td>\n",
       "      <td>v2342630</td>\n",
       "      <td>1.1.1.1</td>\n",
       "      <td>64.9</td>\n",
       "      <td>NaN</td>\n",
       "      <td>NaN</td>\n",
       "      <td>NaN</td>\n",
       "      <td>1</td>\n",
       "    </tr>\n",
       "    <tr>\n",
       "      <th>1</th>\n",
       "      <td>1976</td>\n",
       "      <td>Canada</td>\n",
       "      <td>2016A000011124</td>\n",
       "      <td>Average age</td>\n",
       "      <td>Total, all retirees</td>\n",
       "      <td>Males</td>\n",
       "      <td>Years</td>\n",
       "      <td>308</td>\n",
       "      <td>units</td>\n",
       "      <td>0</td>\n",
       "      <td>v2342638</td>\n",
       "      <td>1.1.1.2</td>\n",
       "      <td>65.3</td>\n",
       "      <td>NaN</td>\n",
       "      <td>NaN</td>\n",
       "      <td>NaN</td>\n",
       "      <td>1</td>\n",
       "    </tr>\n",
       "    <tr>\n",
       "      <th>2</th>\n",
       "      <td>1976</td>\n",
       "      <td>Canada</td>\n",
       "      <td>2016A000011124</td>\n",
       "      <td>Average age</td>\n",
       "      <td>Total, all retirees</td>\n",
       "      <td>Females</td>\n",
       "      <td>Years</td>\n",
       "      <td>308</td>\n",
       "      <td>units</td>\n",
       "      <td>0</td>\n",
       "      <td>v2342646</td>\n",
       "      <td>1.1.1.3</td>\n",
       "      <td>63.9</td>\n",
       "      <td>NaN</td>\n",
       "      <td>NaN</td>\n",
       "      <td>NaN</td>\n",
       "      <td>1</td>\n",
       "    </tr>\n",
       "    <tr>\n",
       "      <th>3</th>\n",
       "      <td>1976</td>\n",
       "      <td>Canada</td>\n",
       "      <td>2016A000011124</td>\n",
       "      <td>Average age</td>\n",
       "      <td>Public sector employees</td>\n",
       "      <td>Both sexes</td>\n",
       "      <td>Years</td>\n",
       "      <td>308</td>\n",
       "      <td>units</td>\n",
       "      <td>0</td>\n",
       "      <td>v2342632</td>\n",
       "      <td>1.1.2.1</td>\n",
       "      <td>63.5</td>\n",
       "      <td>NaN</td>\n",
       "      <td>NaN</td>\n",
       "      <td>NaN</td>\n",
       "      <td>1</td>\n",
       "    </tr>\n",
       "    <tr>\n",
       "      <th>4</th>\n",
       "      <td>1976</td>\n",
       "      <td>Canada</td>\n",
       "      <td>2016A000011124</td>\n",
       "      <td>Average age</td>\n",
       "      <td>Public sector employees</td>\n",
       "      <td>Males</td>\n",
       "      <td>Years</td>\n",
       "      <td>308</td>\n",
       "      <td>units</td>\n",
       "      <td>0</td>\n",
       "      <td>v2342640</td>\n",
       "      <td>1.1.2.2</td>\n",
       "      <td>63.7</td>\n",
       "      <td>NaN</td>\n",
       "      <td>NaN</td>\n",
       "      <td>NaN</td>\n",
       "      <td>1</td>\n",
       "    </tr>\n",
       "  </tbody>\n",
       "</table>\n",
       "</div>"
      ],
      "text/plain": [
       "   REF_DATE     GEO           DGUID Retirement age          Class of worker  \\\n",
       "0      1976  Canada  2016A000011124    Average age      Total, all retirees   \n",
       "1      1976  Canada  2016A000011124    Average age      Total, all retirees   \n",
       "2      1976  Canada  2016A000011124    Average age      Total, all retirees   \n",
       "3      1976  Canada  2016A000011124    Average age  Public sector employees   \n",
       "4      1976  Canada  2016A000011124    Average age  Public sector employees   \n",
       "\n",
       "          Sex    UOM  UOM_ID SCALAR_FACTOR  SCALAR_ID    VECTOR COORDINATE  \\\n",
       "0  Both sexes  Years     308        units           0  v2342630    1.1.1.1   \n",
       "1       Males  Years     308        units           0  v2342638    1.1.1.2   \n",
       "2     Females  Years     308        units           0  v2342646    1.1.1.3   \n",
       "3  Both sexes  Years     308        units           0  v2342632    1.1.2.1   \n",
       "4       Males  Years     308        units           0  v2342640    1.1.2.2   \n",
       "\n",
       "   VALUE STATUS  SYMBOL  TERMINATED  DECIMALS  \n",
       "0   64.9    NaN     NaN         NaN         1  \n",
       "1   65.3    NaN     NaN         NaN         1  \n",
       "2   63.9    NaN     NaN         NaN         1  \n",
       "3   63.5    NaN     NaN         NaN         1  \n",
       "4   63.7    NaN     NaN         NaN         1  "
      ]
     },
     "execution_count": 2,
     "metadata": {},
     "output_type": "execute_result"
    }
   ],
   "source": [
    "canada_data.head()"
   ]
  },
  {
   "cell_type": "markdown",
   "metadata": {},
   "source": [
    "# Problem resolution"
   ]
  },
  {
   "cell_type": "markdown",
   "metadata": {},
   "source": [
    "#Used a Linear regression model to make predictions regarding the retirement age. "
   ]
  },
  {
   "cell_type": "code",
   "execution_count": 4,
   "metadata": {},
   "outputs": [],
   "source": [
    "canada_data = canada_data.drop(columns=['DECIMALS','TERMINATED','SYMBOL','COORDINATE','VECTOR','SCALAR_ID','SCALAR_FACTOR','UOM_ID','UOM','DGUID','GEO'])"
   ]
  },
  {
   "cell_type": "markdown",
   "metadata": {},
   "source": [
    "#The records having 'STATUS' as 'x' had missing values in 'VALUE' which were replaced with the minimum value from the group."
   ]
  },
  {
   "cell_type": "code",
   "execution_count": 6,
   "metadata": {},
   "outputs": [
    {
     "data": {
      "text/html": [
       "<div>\n",
       "<style scoped>\n",
       "    .dataframe tbody tr th:only-of-type {\n",
       "        vertical-align: middle;\n",
       "    }\n",
       "\n",
       "    .dataframe tbody tr th {\n",
       "        vertical-align: top;\n",
       "    }\n",
       "\n",
       "    .dataframe thead th {\n",
       "        text-align: right;\n",
       "    }\n",
       "</style>\n",
       "<table border=\"1\" class=\"dataframe\">\n",
       "  <thead>\n",
       "    <tr style=\"text-align: right;\">\n",
       "      <th></th>\n",
       "      <th>REF_DATE</th>\n",
       "      <th>Retirement age</th>\n",
       "      <th>Class of worker</th>\n",
       "      <th>Sex</th>\n",
       "      <th>VALUE</th>\n",
       "      <th>STATUS</th>\n",
       "    </tr>\n",
       "  </thead>\n",
       "  <tbody>\n",
       "    <tr>\n",
       "      <th>11</th>\n",
       "      <td>1976</td>\n",
       "      <td>Average age</td>\n",
       "      <td>Self-employed</td>\n",
       "      <td>Females</td>\n",
       "      <td>NaN</td>\n",
       "      <td>x</td>\n",
       "    </tr>\n",
       "    <tr>\n",
       "      <th>23</th>\n",
       "      <td>1976</td>\n",
       "      <td>Median age</td>\n",
       "      <td>Self-employed</td>\n",
       "      <td>Females</td>\n",
       "      <td>NaN</td>\n",
       "      <td>x</td>\n",
       "    </tr>\n",
       "    <tr>\n",
       "      <th>35</th>\n",
       "      <td>1977</td>\n",
       "      <td>Average age</td>\n",
       "      <td>Self-employed</td>\n",
       "      <td>Females</td>\n",
       "      <td>NaN</td>\n",
       "      <td>x</td>\n",
       "    </tr>\n",
       "    <tr>\n",
       "      <th>47</th>\n",
       "      <td>1977</td>\n",
       "      <td>Median age</td>\n",
       "      <td>Self-employed</td>\n",
       "      <td>Females</td>\n",
       "      <td>NaN</td>\n",
       "      <td>x</td>\n",
       "    </tr>\n",
       "    <tr>\n",
       "      <th>83</th>\n",
       "      <td>1979</td>\n",
       "      <td>Average age</td>\n",
       "      <td>Self-employed</td>\n",
       "      <td>Females</td>\n",
       "      <td>NaN</td>\n",
       "      <td>x</td>\n",
       "    </tr>\n",
       "  </tbody>\n",
       "</table>\n",
       "</div>"
      ],
      "text/plain": [
       "    REF_DATE Retirement age Class of worker      Sex  VALUE STATUS\n",
       "11      1976    Average age   Self-employed  Females    NaN      x\n",
       "23      1976     Median age   Self-employed  Females    NaN      x\n",
       "35      1977    Average age   Self-employed  Females    NaN      x\n",
       "47      1977     Median age   Self-employed  Females    NaN      x\n",
       "83      1979    Average age   Self-employed  Females    NaN      x"
      ]
     },
     "execution_count": 6,
     "metadata": {},
     "output_type": "execute_result"
    }
   ],
   "source": [
    "canada_data[canada_data['STATUS']=='x'].head()"
   ]
  },
  {
   "cell_type": "markdown",
   "metadata": {},
   "source": [
    "#The columns which had only one value and did not make any contribution to analysing the age of retirement were removed. The removed columns are : ['DECIMALS','TERMINATED','SYMBOL','COORDINATE','VECTOR','SCALAR_ID','SCALAR_FACTOR','UOM_ID','UOM','DGUID','GEO']\n",
    "#Considered taking the average of the retirement ages instead of median as the frequency of customer base may change in the coming years\n",
    "#It is observed that whenever column 'STATUS' had value 'x' the column 'VALUE' had 'Nan'. Further it is also visible that everyone of these records had 'Sex' as 'Female' and 'Class of worker ' as 'Self-employed'"
   ]
  },
  {
   "cell_type": "code",
   "execution_count": 8,
   "metadata": {},
   "outputs": [],
   "source": [
    "canada_data_avg = canada_data[canada_data['Retirement age']=='Average age'].drop(columns=['STATUS','Retirement age'])\n",
    "canada_data_med = canada_data[canada_data['Retirement age']=='Median age'].drop(columns=['STATUS','Retirement age'])"
   ]
  },
  {
   "cell_type": "code",
   "execution_count": 11,
   "metadata": {},
   "outputs": [],
   "source": [
    "canada_data_med = canada_data[canada_data['Retirement age']=='Median age'].drop(columns=['STATUS','Retirement age'])"
   ]
  },
  {
   "cell_type": "code",
   "execution_count": 12,
   "metadata": {},
   "outputs": [],
   "source": [
    "canada_data_med[['Sex','VALUE']]=canada_data_med.groupby(['REF_DATE','Class of worker']).transform(lambda x: x.fillna(x.min()))"
   ]
  },
  {
   "cell_type": "code",
   "execution_count": 14,
   "metadata": {},
   "outputs": [
    {
     "data": {
      "text/html": [
       "<div>\n",
       "<style scoped>\n",
       "    .dataframe tbody tr th:only-of-type {\n",
       "        vertical-align: middle;\n",
       "    }\n",
       "\n",
       "    .dataframe tbody tr th {\n",
       "        vertical-align: top;\n",
       "    }\n",
       "\n",
       "    .dataframe thead th {\n",
       "        text-align: right;\n",
       "    }\n",
       "</style>\n",
       "<table border=\"1\" class=\"dataframe\">\n",
       "  <thead>\n",
       "    <tr style=\"text-align: right;\">\n",
       "      <th></th>\n",
       "      <th>REF_DATE</th>\n",
       "      <th>Class of worker</th>\n",
       "      <th>Sex</th>\n",
       "      <th>VALUE</th>\n",
       "    </tr>\n",
       "  </thead>\n",
       "  <tbody>\n",
       "    <tr>\n",
       "      <th>0</th>\n",
       "      <td>1976</td>\n",
       "      <td>Total, all retirees</td>\n",
       "      <td>Both sexes</td>\n",
       "      <td>64.9</td>\n",
       "    </tr>\n",
       "    <tr>\n",
       "      <th>1</th>\n",
       "      <td>1976</td>\n",
       "      <td>Total, all retirees</td>\n",
       "      <td>Males</td>\n",
       "      <td>65.3</td>\n",
       "    </tr>\n",
       "    <tr>\n",
       "      <th>2</th>\n",
       "      <td>1976</td>\n",
       "      <td>Total, all retirees</td>\n",
       "      <td>Females</td>\n",
       "      <td>63.9</td>\n",
       "    </tr>\n",
       "    <tr>\n",
       "      <th>3</th>\n",
       "      <td>1976</td>\n",
       "      <td>Public sector employees</td>\n",
       "      <td>Both sexes</td>\n",
       "      <td>63.5</td>\n",
       "    </tr>\n",
       "    <tr>\n",
       "      <th>4</th>\n",
       "      <td>1976</td>\n",
       "      <td>Public sector employees</td>\n",
       "      <td>Males</td>\n",
       "      <td>63.7</td>\n",
       "    </tr>\n",
       "  </tbody>\n",
       "</table>\n",
       "</div>"
      ],
      "text/plain": [
       "   REF_DATE          Class of worker         Sex  VALUE\n",
       "0      1976      Total, all retirees  Both sexes   64.9\n",
       "1      1976      Total, all retirees       Males   65.3\n",
       "2      1976      Total, all retirees     Females   63.9\n",
       "3      1976  Public sector employees  Both sexes   63.5\n",
       "4      1976  Public sector employees       Males   63.7"
      ]
     },
     "execution_count": 14,
     "metadata": {},
     "output_type": "execute_result"
    }
   ],
   "source": [
    "canada_data_avg_total = canada_data_avg[canada_data_avg['Sex']=='Both sexes']\n",
    "canada_data_avg.head()"
   ]
  },
  {
   "cell_type": "code",
   "execution_count": null,
   "metadata": {},
   "outputs": [],
   "source": []
  },
  {
   "cell_type": "code",
   "execution_count": 15,
   "metadata": {},
   "outputs": [],
   "source": [
    "import seaborn as sns \n",
    "import matplotlib.pyplot as plt \n",
    "from sklearn import preprocessing, svm \n",
    "from sklearn.model_selection import train_test_split \n",
    "\n",
    "from sklearn.preprocessing import LabelEncoder"
   ]
  },
  {
   "cell_type": "code",
   "execution_count": 16,
   "metadata": {},
   "outputs": [
    {
     "name": "stderr",
     "output_type": "stream",
     "text": [
      "C:\\ProgramData\\Anaconda3\\lib\\site-packages\\ipykernel_launcher.py:2: SettingWithCopyWarning: \n",
      "A value is trying to be set on a copy of a slice from a DataFrame.\n",
      "Try using .loc[row_indexer,col_indexer] = value instead\n",
      "\n",
      "See the caveats in the documentation: https://pandas.pydata.org/pandas-docs/stable/user_guide/indexing.html#returning-a-view-versus-a-copy\n",
      "  \n"
     ]
    }
   ],
   "source": [
    "num = LabelEncoder()\n",
    "canada_data_avg_total['Class of worker'] = num.fit_transform(canada_data_avg_total['Class of worker'].astype('str'))"
   ]
  },
  {
   "cell_type": "markdown",
   "metadata": {},
   "source": [
    "#Converted categorical variable 'Class of worker' to numeric"
   ]
  },
  {
   "cell_type": "code",
   "execution_count": 18,
   "metadata": {},
   "outputs": [
    {
     "data": {
      "text/html": [
       "<div>\n",
       "<style scoped>\n",
       "    .dataframe tbody tr th:only-of-type {\n",
       "        vertical-align: middle;\n",
       "    }\n",
       "\n",
       "    .dataframe tbody tr th {\n",
       "        vertical-align: top;\n",
       "    }\n",
       "\n",
       "    .dataframe thead th {\n",
       "        text-align: right;\n",
       "    }\n",
       "</style>\n",
       "<table border=\"1\" class=\"dataframe\">\n",
       "  <thead>\n",
       "    <tr style=\"text-align: right;\">\n",
       "      <th></th>\n",
       "      <th>REF_DATE</th>\n",
       "      <th>Class of worker</th>\n",
       "      <th>Sex</th>\n",
       "      <th>VALUE</th>\n",
       "    </tr>\n",
       "  </thead>\n",
       "  <tbody>\n",
       "    <tr>\n",
       "      <th>0</th>\n",
       "      <td>1976</td>\n",
       "      <td>3</td>\n",
       "      <td>Both sexes</td>\n",
       "      <td>64.9</td>\n",
       "    </tr>\n",
       "    <tr>\n",
       "      <th>3</th>\n",
       "      <td>1976</td>\n",
       "      <td>1</td>\n",
       "      <td>Both sexes</td>\n",
       "      <td>63.5</td>\n",
       "    </tr>\n",
       "    <tr>\n",
       "      <th>6</th>\n",
       "      <td>1976</td>\n",
       "      <td>0</td>\n",
       "      <td>Both sexes</td>\n",
       "      <td>65.0</td>\n",
       "    </tr>\n",
       "    <tr>\n",
       "      <th>9</th>\n",
       "      <td>1976</td>\n",
       "      <td>2</td>\n",
       "      <td>Both sexes</td>\n",
       "      <td>66.4</td>\n",
       "    </tr>\n",
       "    <tr>\n",
       "      <th>24</th>\n",
       "      <td>1977</td>\n",
       "      <td>3</td>\n",
       "      <td>Both sexes</td>\n",
       "      <td>65.1</td>\n",
       "    </tr>\n",
       "  </tbody>\n",
       "</table>\n",
       "</div>"
      ],
      "text/plain": [
       "    REF_DATE  Class of worker         Sex  VALUE\n",
       "0       1976                3  Both sexes   64.9\n",
       "3       1976                1  Both sexes   63.5\n",
       "6       1976                0  Both sexes   65.0\n",
       "9       1976                2  Both sexes   66.4\n",
       "24      1977                3  Both sexes   65.1"
      ]
     },
     "execution_count": 18,
     "metadata": {},
     "output_type": "execute_result"
    }
   ],
   "source": [
    "canada_data_avg_total.head()"
   ]
  },
  {
   "cell_type": "markdown",
   "metadata": {},
   "source": [
    "#Making predictive analysis using Linear Regression model from scikit learn(sklearn package in python)"
   ]
  },
  {
   "cell_type": "code",
   "execution_count": 22,
   "metadata": {},
   "outputs": [
    {
     "data": {
      "image/png": "[encoded data removed]",
      "text/plain": [
       "<Figure size 432x288 with 1 Axes>"
      ]
     },
     "metadata": {
      "needs_background": "light"
     },
     "output_type": "display_data"
    }
   ],
   "source": [
    "from sklearn.linear_model import LinearRegression \n",
    "canada_data_avg_total0 = canada_data_avg_total[(canada_data_avg_total['Class of worker']==0)]\n",
    "X0 = canada_data_avg_total0[['REF_DATE','Class of worker']] \n",
    "y0 = np.array(canada_data_avg_total0['VALUE']).reshape(-1, 1)\n",
    "regr = LinearRegression() \n",
    "regr.fit(X0, y0)\n",
    "X_test0 = pd.DataFrame({'REF_DATE':[2019,2020,2021,2022,2023,2024,2025,2026,2027,2028,2029,2030,2031,2032,2033,2034,2035],\n",
    "                     'Class of worker':[0,0,0,0,0,0,0,0,0,0,0,0,0,0,0,0,0]})\n",
    "y_pred0 = regr.predict(X_test0)\n",
    "\n",
    "import matplotlib.pyplot as plot\n",
    "plot.scatter(X0['REF_DATE'], y0, color = 'red')\n",
    "plot.plot(X0['REF_DATE'], regr.predict(X0), color = 'blue')\n",
    "plot.plot(X_test0['REF_DATE'], y_pred0, color = 'blue')\n",
    "plot.title('Year VS Age Total')\n",
    "plot.xlabel('Year')\n",
    "plot.ylabel('Age')\n",
    "plot.show()\n",
    "\n"
   ]
  },
  {
   "cell_type": "code",
   "execution_count": 23,
   "metadata": {},
   "outputs": [
    {
     "data": {
      "image/png": "[encoded data removed]",
      "text/plain": [
       "<Figure size 432x288 with 1 Axes>"
      ]
     },
     "metadata": {
      "needs_background": "light"
     },
     "output_type": "display_data"
    }
   ],
   "source": [
    "from sklearn.linear_model import LinearRegression \n",
    "canada_data_avg_total1 = canada_data_avg_total[(canada_data_avg_total['Class of worker']==1)]\n",
    "X1 = canada_data_avg_total1[['REF_DATE','Class of worker']] \n",
    "y1 = np.array(canada_data_avg_total1['VALUE']).reshape(-1, 1)\n",
    "regr = LinearRegression()\n",
    "regr.fit(X1, y1)\n",
    "X_test1 = pd.DataFrame({'REF_DATE':[2019,2020,2021,2022,2023,2024,2025,2026,2027,2028,2029,2030,2031,2032,2033,2034,2035],\n",
    "                     'Class of worker':[1,1,1,1,1,1,1,1,1,1,1,1,1,1,1,1,1]})\n",
    "\n",
    "y_pred1 = regr.predict(X_test1)\n",
    "import matplotlib.pyplot as plot1\n",
    "plot1.scatter(X1['REF_DATE'], y1, color = 'red')\n",
    "plot1.plot(X1['REF_DATE'], regr.predict(X1), color = 'blue')\n",
    "plot1.plot(X_test1['REF_DATE'], y_pred1, color = 'blue')\n",
    "plot1.title('Year VS Age Public sector employees')\n",
    "plot1.xlabel('Year')\n",
    "plot1.ylabel('Age')\n",
    "plot1.show()"
   ]
  },
  {
   "cell_type": "code",
   "execution_count": 24,
   "metadata": {},
   "outputs": [
    {
     "data": {
      "image/png": "[encoded data removed]",
      "text/plain": [
       "<Figure size 432x288 with 1 Axes>"
      ]
     },
     "metadata": {
      "needs_background": "light"
     },
     "output_type": "display_data"
    }
   ],
   "source": [
    "\n",
    "from sklearn.linear_model import LinearRegression \n",
    "canada_data_avg_total2 = canada_data_avg_total[(canada_data_avg_total['Class of worker']==2)]\n",
    "X2 = canada_data_avg_total2[['REF_DATE','Class of worker']] \n",
    "y2 = np.array(canada_data_avg_total2['VALUE']).reshape(-1, 1)\n",
    "regr = LinearRegression()\n",
    "regr.fit(X2, y2)\n",
    "X_test2 = pd.DataFrame({'REF_DATE':[2019,2020,2021,2022,2023,2024,2025,2026,2027,2028,2029,2030,2031,2032,2033,2034,2035],\n",
    "                     'Class of worker':[2,2,2,2,2,2,2,2,2,2,2,2,2,2,2,2,2]})\n",
    "\n",
    "y_pred2 = regr.predict(X_test2)\n",
    "import matplotlib.pyplot as plot2\n",
    "plot2.scatter(X2['REF_DATE'], y2, color = 'red')\n",
    "plot2.plot(X2['REF_DATE'], regr.predict(X2), color = 'blue')\n",
    "plot2.plot(X_test2['REF_DATE'], y_pred2, color = 'blue')\n",
    "plot2.title('Year VS Age Private sector employees')\n",
    "plot2.xlabel('Year')\n",
    "plot2.ylabel('Age')\n",
    "plot2.show()"
   ]
  },
  {
   "cell_type": "code",
   "execution_count": 25,
   "metadata": {},
   "outputs": [
    {
     "data": {
      "image/png": "[encoded data removed]",
      "text/plain": [
       "<Figure size 432x288 with 1 Axes>"
      ]
     },
     "metadata": {
      "needs_background": "light"
     },
     "output_type": "display_data"
    }
   ],
   "source": [
    "from sklearn.linear_model import LinearRegression \n",
    "canada_data_avg_total3 = canada_data_avg_total[(canada_data_avg_total['Class of worker']==3)]\n",
    "X3 = canada_data_avg_total3[['REF_DATE','Class of worker']] \n",
    "y3 = np.array(canada_data_avg_total3['VALUE']).reshape(-1, 1)\n",
    "regr = LinearRegression()\n",
    "regr.fit(X3, y3)\n",
    "X_test3 = pd.DataFrame({'REF_DATE':[2019,2020,2021,2022,2023,2024,2025,2026,2027,2028,2029,2030,2031,2032,2033,2034,2035],\n",
    "                     'Class of worker':[3,3,3,3,3,3,3,3,3,3,3,3,3,3,3,3,3]})\n",
    "\n",
    "y_pred3 = regr.predict(X_test3)\n",
    "\n",
    "import matplotlib.pyplot as plot3\n",
    "plot3.scatter(X3['REF_DATE'], y3, color = 'red')\n",
    "plot3.plot(X3['REF_DATE'], regr.predict(X3), color = 'blue')\n",
    "plot3.plot(X_test3['REF_DATE'], y_pred3, color = 'blue')\n",
    "plot3.title('Year VS Age Self employed')\n",
    "plot3.xlabel('Year')\n",
    "plot3.ylabel('Age')\n",
    "plot3.show()"
   ]
  },
  {
   "cell_type": "markdown",
   "metadata": {},
   "source": [
    "#Conculsion \n",
    "\n"
   ]
  },
  {
   "cell_type": "markdown",
   "metadata": {},
   "source": [
    "#According to the predicted retirement age for 2035 which is greater than or equal to 42"
   ]
  },
  {
   "cell_type": "code",
   "execution_count": null,
   "metadata": {},
   "outputs": [],
   "source": []
  }
 ],
 "metadata": {
  "kernelspec": {
   "display_name": "Python 3",
   "language": "python",
   "name": "python3"
  },
  "language_info": {
   "codemirror_mode": {
    "name": "ipython",
    "version": 3
   },
   "file_extension": ".py",
   "mimetype": "text/x-python",
   "name": "python",
   "nbconvert_exporter": "python",
   "pygments_lexer": "ipython3",
   "version": "3.8.3"
  }
 },
 "nbformat": 4,
 "nbformat_minor": 4
}
